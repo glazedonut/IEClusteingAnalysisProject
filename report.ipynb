{
 "cells": [
  {
   "cell_type": "markdown",
   "id": "37e74d5e",
   "metadata": {},
   "source": [
    "Roka Hosono, Veda Upasan Pedagadi, Jahnavi Chowdary Tumati\n",
    "Project 1"
   ]
  }
 ],
 "metadata": {
  "kernelspec": {
   "display_name": "Python 3 (ipykernel)",
   "language": "python",
   "name": "python3"
  },
  "language_info": {
   "codemirror_mode": {
    "name": "ipython",
    "version": 3
   },
   "file_extension": ".py",
   "mimetype": "text/x-python",
   "name": "python",
   "nbconvert_exporter": "python",
   "pygments_lexer": "ipython3",
   "version": "3.9.12"
  }
 },
 "nbformat": 4,
 "nbformat_minor": 5
}
